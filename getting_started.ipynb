{
  "nbformat": 4,
  "nbformat_minor": 0,
  "metadata": {
    "colab": {
      "name": "L1 - lec1.ipynb",
      "provenance": [],
      "collapsed_sections": [],
      "include_colab_link": true
    },
    "kernelspec": {
      "display_name": "Python 3",
      "language": "python",
      "name": "python3"
    },
    "language_info": {
      "codemirror_mode": {
        "name": "ipython",
        "version": 3
      },
      "file_extension": ".py",
      "mimetype": "text/x-python",
      "name": "python",
      "nbconvert_exporter": "python",
      "pygments_lexer": "ipython3",
      "version": "3.7.6"
    }
  },
  "cells": [
    {
      "cell_type": "markdown",
      "metadata": {
        "id": "view-in-github",
        "colab_type": "text"
      },
      "source": [
        "<a href=\"https://colab.research.google.com/github/tbhavana21/BasicPython/blob/main/getting_started.ipynb\" target=\"_parent\"><img src=\"https://colab.research.google.com/assets/colab-badge.svg\" alt=\"Open In Colab\"/></a>"
      ]
    },
    {
      "cell_type": "markdown",
      "metadata": {
        "id": "-nysje9hGwNi"
      },
      "source": [
        "# Getting Started with Python\n",
        "\n",
        "Lets start at the very beginning. You can use Python as a calculator.\n",
        "This is my note\n",
        "![](https://github.com/tbhavana21/BasicPython/blob/main/getting_started.slides.dir/8.png?raw=1)"
      ]
    },
    {
      "cell_type": "markdown",
      "metadata": {
        "id": "OC8-LYQ6GwNr"
      },
      "source": [
        "## A calculator"
      ]
    },
    {
      "cell_type": "code",
      "metadata": {
        "id": "MZdZ1PYlGwNs",
        "outputId": "343a4a93-e07e-4f48-e09b-3c4b30e24965"
      },
      "source": [
        "1 + 1"
      ],
      "execution_count": null,
      "outputs": [
        {
          "output_type": "execute_result",
          "data": {
            "text/plain": [
              "2"
            ]
          },
          "metadata": {
            "tags": []
          },
          "execution_count": 1
        }
      ]
    },
    {
      "cell_type": "code",
      "metadata": {
        "id": "O-DpEEj8GwNu",
        "outputId": "bcb08cb8-9928-4c3a-c67c-fd2b5e80d03c"
      },
      "source": [
        "5 - 1"
      ],
      "execution_count": null,
      "outputs": [
        {
          "output_type": "execute_result",
          "data": {
            "text/plain": [
              "4"
            ]
          },
          "metadata": {
            "tags": []
          },
          "execution_count": 2
        }
      ]
    },
    {
      "cell_type": "code",
      "metadata": {
        "id": "yyypAgARGwNv",
        "outputId": "9e387c7a-d864-4dd2-b94c-630ea8a36d7c"
      },
      "source": [
        "23*45"
      ],
      "execution_count": null,
      "outputs": [
        {
          "output_type": "execute_result",
          "data": {
            "text/plain": [
              "1035"
            ]
          },
          "metadata": {
            "tags": []
          },
          "execution_count": 3
        }
      ]
    },
    {
      "cell_type": "code",
      "metadata": {
        "id": "lNkLX9JlGwNv",
        "outputId": "d09c3124-4555-45c1-b5f0-400f43d6b935"
      },
      "source": [
        "2**10"
      ],
      "execution_count": null,
      "outputs": [
        {
          "output_type": "execute_result",
          "data": {
            "text/plain": [
              "1024"
            ]
          },
          "metadata": {
            "tags": []
          },
          "execution_count": 8
        }
      ]
    },
    {
      "cell_type": "code",
      "metadata": {
        "id": "puDEGvzoGwNw",
        "outputId": "9141c84d-b275-42e5-baf4-7ae97268e491"
      },
      "source": [
        "5/2"
      ],
      "execution_count": null,
      "outputs": [
        {
          "output_type": "execute_result",
          "data": {
            "text/plain": [
              "2.5"
            ]
          },
          "metadata": {
            "tags": []
          },
          "execution_count": 5
        }
      ]
    },
    {
      "cell_type": "markdown",
      "metadata": {
        "id": "PofteDLfGwNw"
      },
      "source": [
        "And this is integer divison:"
      ]
    },
    {
      "cell_type": "code",
      "metadata": {
        "id": "Hgr2zQn9GwNx",
        "outputId": "36c1cae2-5fbd-4389-e469-66cb4f7f9b7d"
      },
      "source": [
        "5//2"
      ],
      "execution_count": null,
      "outputs": [
        {
          "output_type": "execute_result",
          "data": {
            "text/plain": [
              "2"
            ]
          },
          "metadata": {
            "tags": []
          },
          "execution_count": 6
        }
      ]
    },
    {
      "cell_type": "markdown",
      "metadata": {
        "id": "qtnyHhTbGwNy"
      },
      "source": [
        "You can also get the remainder:"
      ]
    },
    {
      "cell_type": "code",
      "metadata": {
        "id": "hadWQAO6GwNy",
        "outputId": "d93c0085-7ebf-4956-c5c1-9a4601c5e3c7"
      },
      "source": [
        "5 % 2"
      ],
      "execution_count": null,
      "outputs": [
        {
          "output_type": "execute_result",
          "data": {
            "text/plain": [
              "1"
            ]
          },
          "metadata": {
            "tags": []
          },
          "execution_count": 7
        }
      ]
    },
    {
      "cell_type": "markdown",
      "metadata": {
        "id": "1iOs0Qd_ah_A"
      },
      "source": [
        "A language is not particularly useful,if you cant *symbolically* assign values in the language to names. This is the concept of *variables*, stolen from algebra.\n",
        "\n",
        "## Variables\n",
        "\n",
        "**Variables are labels for values**\n",
        "\n",
        "- Start with a letter or underscore\n",
        "- Can contain only alpha-numeric characters and underscore\n",
        "- Are case sensitive"
      ]
    },
    {
      "cell_type": "code",
      "metadata": {
        "id": "uX-33Ockarbc",
        "outputId": "00ed5d2e-a4b6-4989-e4ed-f24d1133597e"
      },
      "source": [
        "# CANT DO THIS 9variable = \"hello\"\n",
        "# print 9variable\n",
        "\n",
        "Var = \"hello\"\n",
        "#print (var) # will give an error\n",
        "print (Var)"
      ],
      "execution_count": null,
      "outputs": [
        {
          "output_type": "stream",
          "text": [
            "hello\n"
          ],
          "name": "stdout"
        }
      ]
    },
    {
      "cell_type": "markdown",
      "metadata": {
        "id": "OEJP8Nn0GwNz"
      },
      "source": [
        "What happened above? In the computer's memory, a location was found, and then filled with the word \"hello\". Then a variable `Var` was created and was used to label this memory location.\n",
        "\n",
        "![](https://github.com/tbhavana21/BasicPython/blob/main/images/labelmem.jpg?raw=1)"
      ]
    },
    {
      "cell_type": "markdown",
      "metadata": {
        "id": "i883lrL-au-6"
      },
      "source": [
        "### Variable Data Types\n",
        "\n",
        "  - Integer\n",
        "  - Float\n",
        "  - String\n",
        "  - Boolean\n",
        "\n",
        "(More data types are available but not necessary now)"
      ]
    },
    {
      "cell_type": "code",
      "metadata": {
        "id": "PXUOcyCYa0B4",
        "outputId": "d2ca778a-b69e-475a-8c8d-6176569a1b35"
      },
      "source": [
        "#To identify the data type of a variable in python we use the built-in function type()\n",
        "\n",
        "var = 7\n",
        "print (var)\n",
        "print(\"The data type is:\", type(var))"
      ],
      "execution_count": null,
      "outputs": [
        {
          "output_type": "stream",
          "text": [
            "7\n",
            "The data type is: <class 'int'>\n"
          ],
          "name": "stdout"
        }
      ]
    },
    {
      "cell_type": "code",
      "metadata": {
        "id": "gxlREmada7xz",
        "outputId": "d371861d-bbad-4427-e374-aa75658d929c"
      },
      "source": [
        "var = 7.01\n",
        "print (var)\n",
        "print(\"The data type is:\", type(var))"
      ],
      "execution_count": null,
      "outputs": [
        {
          "output_type": "stream",
          "text": [
            "7.01\n",
            "The data type is: <class 'float'>\n"
          ],
          "name": "stdout"
        }
      ]
    },
    {
      "cell_type": "code",
      "metadata": {
        "id": "8KC5JyfZa93t",
        "outputId": "5b0c7bac-8aec-4467-b322-24c718abddeb"
      },
      "source": [
        "var = \"Hello World!\"\n",
        "print (var)\n",
        "print(\"The data type is:\", type(var))"
      ],
      "execution_count": null,
      "outputs": [
        {
          "output_type": "stream",
          "text": [
            "Hello World!\n",
            "The data type is: <class 'str'>\n"
          ],
          "name": "stdout"
        }
      ]
    },
    {
      "cell_type": "code",
      "metadata": {
        "id": "llCMJzpcbAAp",
        "outputId": "e2a5e331-80c5-4671-a5f2-2dccba9e3a9e"
      },
      "source": [
        "var = True\n",
        "print (var)\n",
        "print(\"The data type is:\", type(var))"
      ],
      "execution_count": null,
      "outputs": [
        {
          "output_type": "stream",
          "text": [
            "True\n",
            "The data type is: <class 'bool'>\n"
          ],
          "name": "stdout"
        }
      ]
    },
    {
      "cell_type": "markdown",
      "metadata": {
        "id": "6vdbyj_eGwN6"
      },
      "source": [
        "A variable is literally a label. You can think of it as a post-it, or sticky note, or a *pointer*. Do not think of it as a box in which a value is stored.\n",
        "\n",
        "In the above, we just take the variable `var` and point it to different pieces of memory holding different values. This is perhaps more clear from a diagram.\n",
        "\n",
        "![](https://github.com/tbhavana21/BasicPython/blob/main/images/labelmemmany.jpg?raw=1)"
      ]
    },
    {
      "cell_type": "markdown",
      "metadata": {
        "id": "R7rxdurPbFOE"
      },
      "source": [
        "## Even More operators\n",
        "\n",
        "Besides the usual \"operators\" for values we profiled at the top, you can also use the following:\n",
        "\n",
        "1. Boolean Expressions: returns True or False \n",
        "2. Relational operators: !=, ==, <=, <, >, >= \n",
        "3. Logical Operators: and, or, not\n",
        "\n",
        "You can use a variable, wherever you had used a value:"
      ]
    },
    {
      "cell_type": "code",
      "metadata": {
        "id": "ecFxNLCybLTC"
      },
      "source": [
        "# Arithmetic Operators\n",
        "var1 = 5\n",
        "var2 = 3\n",
        "\n",
        "print (var1 - var2)\n",
        "print (var1*var2)\n",
        "\n",
        "var1 = \"hello\"\n",
        "var2 = \"world\"\n",
        "var3 = \"!\"\n",
        "print (var1+\" \"+var2+var3)\n",
        "\n",
        "# Modulus\n",
        "a = 5\n",
        "b = 2\n",
        "c = a%b\n",
        "print (c)"
      ],
      "execution_count": null,
      "outputs": []
    },
    {
      "cell_type": "markdown",
      "metadata": {
        "id": "zS-XM7NWGwN_"
      },
      "source": [
        "In any programming language, to be able to do something useful, you need to be able to evaluate the \"truthiness\" of expressions."
      ]
    },
    {
      "cell_type": "code",
      "metadata": {
        "id": "3UFVc5BMGwN_",
        "outputId": "f7f8efdf-ea18-4b30-d1db-1c06954d5fa6"
      },
      "source": [
        "# Relational Operators & Boolean expressions\n",
        "var1 = 5\n",
        "var2 = 3\n",
        "print (var1 < var2)"
      ],
      "execution_count": null,
      "outputs": [
        {
          "output_type": "stream",
          "text": [
            "False\n"
          ],
          "name": "stdout"
        }
      ]
    },
    {
      "cell_type": "markdown",
      "metadata": {
        "id": "FqChcJUwGwOA"
      },
      "source": [
        "Such comparisons can be used to make decisions, as we shall soon see."
      ]
    },
    {
      "cell_type": "code",
      "metadata": {
        "id": "-BQaodAFGwOB",
        "outputId": "6cf6280b-016b-4523-ece2-13d76eed453e"
      },
      "source": [
        "a = \"hgi\"\n",
        "b = \"hello\"\n",
        "c = \"hi\"\n",
        "d = \"hello\"\n",
        "print (a==c)\n",
        "print (b==d)"
      ],
      "execution_count": null,
      "outputs": [
        {
          "output_type": "stream",
          "text": [
            "False\n",
            "True\n"
          ],
          "name": "stdout"
        }
      ]
    },
    {
      "cell_type": "markdown",
      "metadata": {
        "id": "hxbRDCQ_GwOB"
      },
      "source": [
        "The first comparison compares the contents of the memory for `a` and `c` and finds that both are different, giving us `False`. Conversely, the second comparison gives us `True`. We can utilize such comparisons in \"decision statements\"."
      ]
    },
    {
      "cell_type": "markdown",
      "metadata": {
        "id": "5at6TQF3bsw7"
      },
      "source": [
        "## Conditional Statements and Python Indentation\n",
        "\n",
        "If you have the ability to test something for \"truthiness\", you can use it to make a decision."
      ]
    },
    {
      "cell_type": "code",
      "metadata": {
        "id": "VUZf9DZ3bzJa",
        "outputId": "3863de93-6f81-41a1-b6d7-926000fdc858"
      },
      "source": [
        "#Simple If conditions\n",
        "var1 = 5\n",
        "var2 = 10\n",
        "\n",
        "if var1 == var2:\n",
        "    print(\"The values are equal\")\n",
        "if var1 < var2:\n",
        "    print(\"First variable is lesser than the second variable\")\n",
        "if var1 > var2:\n",
        "    print(\"Second variable is lesser than the first variable\")"
      ],
      "execution_count": null,
      "outputs": [
        {
          "output_type": "stream",
          "text": [
            "First variable is lesser than the second variable\n"
          ],
          "name": "stdout"
        }
      ]
    },
    {
      "cell_type": "markdown",
      "metadata": {
        "id": "jb3OSh4LGwOD"
      },
      "source": [
        "Notice how python dispenses with brackets, **replacing them by a colon and an indented next line**. The indentation tells us that the code below runs when the condition holds. Python uses this **colon-indentation** for many things, such as *for loops* for iteration and loops in general, for conditionals, for function and class definition, etc."
      ]
    },
    {
      "cell_type": "markdown",
      "metadata": {
        "id": "yh8Oxw-kGwOD"
      },
      "source": [
        "This conditional is such a common idiom that there is a better way to write it."
      ]
    },
    {
      "cell_type": "code",
      "metadata": {
        "id": "VsRHt8nKb1xv",
        "outputId": "ebd609ed-7dd8-473c-b5cf-9a00b60a0f06"
      },
      "source": [
        "#An alternative way to code the previous (If-Else)\n",
        "var1 = 5\n",
        "var2 = 10\n",
        "\n",
        "if (var1 == var2):\n",
        "    print(\"The values are equal\")\n",
        "elif (var1 < var2):\n",
        "    print(\"First variable is lesser than the second variable\")  \n",
        "else:\n",
        "    print(\"Second variable is lesser than the first variable\")"
      ],
      "execution_count": null,
      "outputs": [
        {
          "output_type": "stream",
          "text": [
            "First variable is lesser than the second variable\n"
          ],
          "name": "stdout"
        }
      ]
    },
    {
      "cell_type": "markdown",
      "metadata": {
        "id": "BnAXo_QyGwOE"
      },
      "source": [
        "Notice the brackets around the conditional. These are optional but can sometimes help disambiguate. You can combine multiple such statements."
      ]
    },
    {
      "cell_type": "code",
      "metadata": {
        "id": "5i9oEH0sb7qw",
        "outputId": "c35709ac-671b-4c84-a790-7e0c9ab78ed9"
      },
      "source": [
        "#Nested If\n",
        "var1 = 5\n",
        "var2 = 10\n",
        "var3 = 15\n",
        "\n",
        "if (var1 == var2):\n",
        "    print (\"The values are equal\")\n",
        "\n",
        "elif (var1 < var2):\n",
        "    if (var2 == var3):\n",
        "        print (\"Equal \")\n",
        "    elif (var2 < var3):\n",
        "        print (\"Less than\")\n",
        "    else:\n",
        "        print (\"Greater than\")\n",
        "\n",
        "else:\n",
        "    print (\"Did not satisfy any previous conditions\")\n"
      ],
      "execution_count": null,
      "outputs": [
        {
          "output_type": "stream",
          "text": [
            "Less than\n"
          ],
          "name": "stdout"
        }
      ]
    }
  ]
}